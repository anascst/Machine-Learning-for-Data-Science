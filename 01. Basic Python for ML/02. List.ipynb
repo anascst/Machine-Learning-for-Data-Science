{
 "cells": [
  {
   "cell_type": "markdown",
   "metadata": {},
   "source": [
    "2. List\n",
    "    2.1- Create"
   ]
  },
  {
   "cell_type": "code",
   "execution_count": 7,
   "metadata": {},
   "outputs": [],
   "source": [
    "name = ['Anas', 'Anarul', 'Bonis', 'Saydul', 'Anesa']"
   ]
  },
  {
   "cell_type": "markdown",
   "metadata": {},
   "source": [
    "2.2- Read"
   ]
  },
  {
   "cell_type": "code",
   "execution_count": 8,
   "metadata": {},
   "outputs": [
    {
     "data": {
      "text/plain": [
       "['Anas', 'Anarul', 'Bonis', 'Saydul', 'Anesa']"
      ]
     },
     "execution_count": 8,
     "metadata": {},
     "output_type": "execute_result"
    }
   ],
   "source": [
    "name"
   ]
  },
  {
   "cell_type": "code",
   "execution_count": 9,
   "metadata": {},
   "outputs": [
    {
     "name": "stdout",
     "output_type": "stream",
     "text": [
      "Anas\n",
      "Anesa\n",
      "['Anarul', 'Bonis']\n",
      "5\n"
     ]
    }
   ],
   "source": [
    "# Reading using indexing\n",
    "print(name[0])\n",
    "print(name[-1])\n",
    "print(name[1:3])\n",
    "print(len(name))"
   ]
  },
  {
   "cell_type": "markdown",
   "metadata": {},
   "source": [
    "2.3- Update"
   ]
  },
  {
   "cell_type": "code",
   "execution_count": 13,
   "metadata": {},
   "outputs": [
    {
     "name": "stdout",
     "output_type": "stream",
     "text": [
      "Anis\n",
      "['Anas', 'Anarul', 'Anis', 'Saydul', 'Anesa']\n"
     ]
    }
   ],
   "source": [
    "change_name = name[2] = \"Anis\"\n",
    "print(change_name)\n",
    "print(name)\n",
    "# Check name has been change"
   ]
  },
  {
   "cell_type": "code",
   "execution_count": 17,
   "metadata": {},
   "outputs": [
    {
     "name": "stdout",
     "output_type": "stream",
     "text": [
      "['Anas', 'Ahmed', 'Anarul', 'Anis', 'Saydul', 'Anesa', 'Nasim', 'Nasim', 'Nasim', 'Nasim']\n",
      "\n",
      "\n",
      "['Anas', 'Ahmed', 'Ahmed', 'Anarul', 'Anis', 'Saydul', 'Anesa', 'Nasim', 'Nasim', 'Nasim', 'Nasim']\n"
     ]
    }
   ],
   "source": [
    "name.append(\"Nasim\")\n",
    "print(name)\n",
    "print(\"\\n\")\n",
    "name.insert(1, \"Ahmed\")\n",
    "print(name)"
   ]
  },
  {
   "cell_type": "code",
   "execution_count": 18,
   "metadata": {},
   "outputs": [
    {
     "name": "stdout",
     "output_type": "stream",
     "text": [
      "\u001b[1;31mSignature:\u001b[0m \u001b[0mname\u001b[0m\u001b[1;33m.\u001b[0m\u001b[0mpop\u001b[0m\u001b[1;33m(\u001b[0m\u001b[0mindex\u001b[0m\u001b[1;33m=\u001b[0m\u001b[1;33m-\u001b[0m\u001b[1;36m1\u001b[0m\u001b[1;33m,\u001b[0m \u001b[1;33m/\u001b[0m\u001b[1;33m)\u001b[0m\u001b[1;33m\u001b[0m\u001b[1;33m\u001b[0m\u001b[0m\n",
      "\u001b[1;31mDocstring:\u001b[0m\n",
      "Remove and return item at index (default last).\n",
      "\n",
      "Raises IndexError if list is empty or index is out of range.\n",
      "\u001b[1;31mType:\u001b[0m      builtin_function_or_method\n"
     ]
    }
   ],
   "source": [
    "# Check working method\n",
    "name.pop??"
   ]
  },
  {
   "cell_type": "markdown",
   "metadata": {},
   "source": [
    "2.4- Delete"
   ]
  },
  {
   "cell_type": "code",
   "execution_count": 21,
   "metadata": {},
   "outputs": [
    {
     "data": {
      "text/plain": [
       "['Anas', 'Ahmed', 'Ahmed', 'Anarul', 'Anis', 'Saydul', 'Anesa', 'Nasim']"
      ]
     },
     "execution_count": 21,
     "metadata": {},
     "output_type": "execute_result"
    }
   ],
   "source": [
    "del name[-2:-1]\n",
    "name"
   ]
  },
  {
   "cell_type": "code",
   "execution_count": 22,
   "metadata": {},
   "outputs": [
    {
     "data": {
      "text/plain": [
       "['Anas', 'Ahmed', 'Anarul', 'Anis', 'Saydul', 'Anesa', 'Nasim']"
      ]
     },
     "execution_count": 22,
     "metadata": {},
     "output_type": "execute_result"
    }
   ],
   "source": [
    "del name[2]\n",
    "name"
   ]
  },
  {
   "cell_type": "code",
   "execution_count": 23,
   "metadata": {},
   "outputs": [
    {
     "data": {
      "text/plain": [
       "['Anas', 'Ahmed', 'Anarul', 'Saydul', 'Anesa', 'Nasim']"
      ]
     },
     "execution_count": 23,
     "metadata": {},
     "output_type": "execute_result"
    }
   ],
   "source": [
    "name.remove(\"Anis\")\n",
    "name"
   ]
  },
  {
   "cell_type": "code",
   "execution_count": 24,
   "metadata": {},
   "outputs": [
    {
     "data": {
      "text/plain": [
       "['Anas', 'Ahmed', 'Anarul', 'Saydul', 'Anesa']"
      ]
     },
     "execution_count": 24,
     "metadata": {},
     "output_type": "execute_result"
    }
   ],
   "source": [
    "name.pop()\n",
    "name"
   ]
  }
 ],
 "metadata": {
  "interpreter": {
   "hash": "39b61225ed6f3a9213a6382d61fac358e7eabeb5042cc74854e9ed04068e8625"
  },
  "kernelspec": {
   "display_name": "Python 3.9.7 64-bit ('base': conda)",
   "language": "python",
   "name": "python3"
  },
  "language_info": {
   "codemirror_mode": {
    "name": "ipython",
    "version": 3
   },
   "file_extension": ".py",
   "mimetype": "text/x-python",
   "name": "python",
   "nbconvert_exporter": "python",
   "pygments_lexer": "ipython3",
   "version": "3.9.7"
  },
  "orig_nbformat": 4
 },
 "nbformat": 4,
 "nbformat_minor": 2
}
