{
 "cells": [
  {
   "cell_type": "markdown",
   "metadata": {},
   "source": [
    "4. Conditions and Logic"
   ]
  },
  {
   "cell_type": "code",
   "execution_count": 2,
   "metadata": {},
   "outputs": [
    {
     "name": "stdout",
     "output_type": "stream",
     "text": [
      "sup neil\n"
     ]
    }
   ],
   "source": [
    "# applying logic using the if statement\n",
    "names = 'Neil armstrong'\n",
    "if names == \"Neil armstrong\":\n",
    "    print('sup neil')"
   ]
  },
  {
   "cell_type": "code",
   "execution_count": 3,
   "metadata": {},
   "outputs": [
    {
     "name": "stdout",
     "output_type": "stream",
     "text": [
      "sup not neil\n"
     ]
    }
   ],
   "source": [
    "name = 'Nick'\n",
    "if name != \"Neil armstrong\":\n",
    "    print('sup not neil')"
   ]
  },
  {
   "cell_type": "code",
   "execution_count": 4,
   "metadata": {},
   "outputs": [
    {
     "name": "stdout",
     "output_type": "stream",
     "text": [
      "Number is greater than equal to 5\n"
     ]
    }
   ],
   "source": [
    "num = 10\n",
    "if num >= 5:\n",
    "    print('Number is greater than equal to 5')"
   ]
  },
  {
   "cell_type": "code",
   "execution_count": 5,
   "metadata": {},
   "outputs": [
    {
     "name": "stdout",
     "output_type": "stream",
     "text": [
      "False\n"
     ]
    }
   ],
   "source": [
    "probability = 0.01\n",
    "if probability >= 0.51:\n",
    "    print(True)\n",
    "\n",
    "elif probability < 0:\n",
    "    print(\"Check probability\")\n",
    "    \n",
    "else:\n",
    "    print(False)"
   ]
  },
  {
   "cell_type": "code",
   "execution_count": 6,
   "metadata": {},
   "outputs": [
    {
     "name": "stdout",
     "output_type": "stream",
     "text": [
      "Elon's Here\n"
     ]
    }
   ],
   "source": [
    "name = ['neil armstrong', 'buzz alrdin', 'sally ride', 'yuri gagrin', 'elon musk']\n",
    "if 'elon musk' in name:\n",
    "    print(\"Elon\\'s Here\")"
   ]
  }
 ],
 "metadata": {
  "interpreter": {
   "hash": "39b61225ed6f3a9213a6382d61fac358e7eabeb5042cc74854e9ed04068e8625"
  },
  "kernelspec": {
   "display_name": "Python 3.9.7 64-bit ('base': conda)",
   "language": "python",
   "name": "python3"
  },
  "language_info": {
   "codemirror_mode": {
    "name": "ipython",
    "version": 3
   },
   "file_extension": ".py",
   "mimetype": "text/x-python",
   "name": "python",
   "nbconvert_exporter": "python",
   "pygments_lexer": "ipython3",
   "version": "3.9.7"
  },
  "orig_nbformat": 4
 },
 "nbformat": 4,
 "nbformat_minor": 2
}
