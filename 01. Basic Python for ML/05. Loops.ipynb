{
 "cells": [
  {
   "cell_type": "markdown",
   "metadata": {},
   "source": [
    "5. Loops"
   ]
  },
  {
   "cell_type": "code",
   "execution_count": 25,
   "metadata": {},
   "outputs": [
    {
     "name": "stdout",
     "output_type": "stream",
     "text": [
      "neil armstrong\n",
      "buzz alrdin\n",
      "sup buzz\n",
      "sally ride\n",
      "yuri gagrin\n",
      "Hey yuri\n",
      "elon musk\n"
     ]
    }
   ],
   "source": [
    "names = ['neil armstrong', 'buzz alrdin', 'sally ride', 'yuri gagrin', 'elon musk']\n",
    "\n",
    "for name in names:\n",
    "    print(name)\n",
    "    if name == 'buzz alrdin':\n",
    "        print('sup buzz')\n",
    "    elif name == 'yuri gagrin':\n",
    "        print('Hey yuri')"
   ]
  },
  {
   "cell_type": "code",
   "execution_count": 26,
   "metadata": {},
   "outputs": [
    {
     "name": "stdout",
     "output_type": "stream",
     "text": [
      "neil armstrong\n",
      "Pleased to have here\n",
      "\n",
      "buzz alrdin\n",
      "sup buzz\n",
      "\n",
      "sally ride\n",
      "Pleased to have here\n",
      "\n",
      "yuri gagrin\n",
      "Hey yuri\n"
     ]
    }
   ],
   "source": [
    "names = ['neil armstrong', 'buzz alrdin', 'sally ride', 'yuri gagrin', 'elon musk']\n",
    "for name in names:\n",
    "    print(name)\n",
    "    if name == 'buzz alrdin':\n",
    "        print('sup buzz\\n')\n",
    "        continue\n",
    "    elif name == 'yuri gagrin':\n",
    "        print('Hey yuri')\n",
    "        break\n",
    "    else:\n",
    "        pass\n",
    "    # outsite of if statement block\n",
    "    print(\"Pleased to have here\\n\")"
   ]
  },
  {
   "cell_type": "code",
   "execution_count": 28,
   "metadata": {},
   "outputs": [
    {
     "name": "stdout",
     "output_type": "stream",
     "text": [
      "1\n",
      "2\n",
      "3\n",
      "4\n",
      "5\n",
      "6\n",
      "7\n",
      "8\n",
      "9\n",
      "10\n"
     ]
    }
   ],
   "source": [
    "# Loop x number of times\n",
    "for idx in range(1,11):\n",
    "    print(idx)"
   ]
  },
  {
   "cell_type": "code",
   "execution_count": 31,
   "metadata": {},
   "outputs": [
    {
     "name": "stdout",
     "output_type": "stream",
     "text": [
      "shuttles launched 1\n",
      "shuttles launched 2\n",
      "shuttles launched 3\n",
      "shuttles launched 4\n",
      "shuttles launched 5\n",
      "All shuttles launched\n"
     ]
    }
   ],
   "source": [
    "launched_shuttles = 0\n",
    "total_shuttles = 5\n",
    "count_shuttles = 1\n",
    "\n",
    "while True:\n",
    "    print('shuttles launched', count_shuttles)\n",
    "    count_shuttles += 1\n",
    "    launched_shuttles += 1\n",
    "\n",
    "    if launched_shuttles == total_shuttles:\n",
    "        print(\"All shuttles launched\")\n",
    "        break"
   ]
  },
  {
   "cell_type": "code",
   "execution_count": 34,
   "metadata": {},
   "outputs": [
    {
     "name": "stdout",
     "output_type": "stream",
     "text": [
      "shuttle 1 launched\n",
      "shuttle 2 launched\n",
      "shuttle 3 launched\n",
      "shuttle 4 launched\n",
      "shuttle 5 launched\n",
      "shuttle 6 launched\n",
      "shuttle 7 launched\n",
      "shuttle 8 launched\n",
      "shuttle 9 launched\n",
      "shuttle 10 launched\n",
      "All shuttles launched\n"
     ]
    }
   ],
   "source": [
    "launched_shuttles = 0\n",
    "total_shuttles = 10\n",
    "\n",
    "while True:\n",
    "    print(f'shuttle {launched_shuttles+1} launched')\n",
    "    launched_shuttles += 1\n",
    "\n",
    "    if launched_shuttles == total_shuttles:\n",
    "        print(\"All shuttles launched\")\n",
    "        break"
   ]
  },
  {
   "cell_type": "code",
   "execution_count": 36,
   "metadata": {},
   "outputs": [],
   "source": [
    "astronout = {\n",
    "    'name': 'elom musk',\n",
    "    'suit_size': 'medium',\n",
    "    'allergies': 'penouts'\n",
    "}"
   ]
  },
  {
   "cell_type": "code",
   "execution_count": 38,
   "metadata": {},
   "outputs": [
    {
     "data": {
      "text/plain": [
       "dict_keys(['name', 'suit_size', 'allergies'])"
      ]
     },
     "execution_count": 38,
     "metadata": {},
     "output_type": "execute_result"
    }
   ],
   "source": [
    "# accessing dic keys\n",
    "astronout.keys()"
   ]
  },
  {
   "cell_type": "code",
   "execution_count": 37,
   "metadata": {},
   "outputs": [
    {
     "name": "stdout",
     "output_type": "stream",
     "text": [
      "name\n",
      "suit_size\n",
      "allergies\n"
     ]
    }
   ],
   "source": [
    "for key in astronout.keys():\n",
    "    print(key)"
   ]
  },
  {
   "cell_type": "code",
   "execution_count": 39,
   "metadata": {},
   "outputs": [
    {
     "data": {
      "text/plain": [
       "dict_values(['elom musk', 'medium', 'penouts'])"
      ]
     },
     "execution_count": 39,
     "metadata": {},
     "output_type": "execute_result"
    }
   ],
   "source": [
    "# accessing dic values\n",
    "astronout.values()"
   ]
  },
  {
   "cell_type": "code",
   "execution_count": 40,
   "metadata": {},
   "outputs": [
    {
     "name": "stdout",
     "output_type": "stream",
     "text": [
      "elom musk\n",
      "medium\n",
      "penouts\n"
     ]
    }
   ],
   "source": [
    "for values in astronout.values():\n",
    "    print(values)"
   ]
  },
  {
   "cell_type": "code",
   "execution_count": 41,
   "metadata": {},
   "outputs": [
    {
     "data": {
      "text/plain": [
       "dict_items([('name', 'elom musk'), ('suit_size', 'medium'), ('allergies', 'penouts')])"
      ]
     },
     "execution_count": 41,
     "metadata": {},
     "output_type": "execute_result"
    }
   ],
   "source": [
    "# accessing dic keys and values...\n",
    "astronout.items()"
   ]
  },
  {
   "cell_type": "code",
   "execution_count": 44,
   "metadata": {},
   "outputs": [
    {
     "name": "stdout",
     "output_type": "stream",
     "text": [
      "name : elom musk\n",
      "suit_size : medium\n",
      "allergies : penouts\n"
     ]
    }
   ],
   "source": [
    "for key, values in astronout.items():\n",
    "    print(key,\":\", values)"
   ]
  },
  {
   "cell_type": "code",
   "execution_count": 45,
   "metadata": {},
   "outputs": [
    {
     "data": {
      "text/plain": [
       "['Neil Armstrong', 'Buzz Alrdin', 'Sally Ride', 'Yuri Gagrin', 'Elon Musk']"
      ]
     },
     "execution_count": 45,
     "metadata": {},
     "output_type": "execute_result"
    }
   ],
   "source": [
    "# list comprehension\n",
    "new_list = [name.title() for name in names]\n",
    "new_list"
   ]
  }
 ],
 "metadata": {
  "interpreter": {
   "hash": "39b61225ed6f3a9213a6382d61fac358e7eabeb5042cc74854e9ed04068e8625"
  },
  "kernelspec": {
   "display_name": "Python 3.9.7 64-bit ('base': conda)",
   "language": "python",
   "name": "python3"
  },
  "language_info": {
   "codemirror_mode": {
    "name": "ipython",
    "version": 3
   },
   "file_extension": ".py",
   "mimetype": "text/x-python",
   "name": "python",
   "nbconvert_exporter": "python",
   "pygments_lexer": "ipython3",
   "version": "3.9.7"
  },
  "orig_nbformat": 4
 },
 "nbformat": 4,
 "nbformat_minor": 2
}
