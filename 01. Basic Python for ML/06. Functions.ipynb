{
 "cells": [
  {
   "cell_type": "markdown",
   "metadata": {},
   "source": [
    "6. Functions"
   ]
  },
  {
   "cell_type": "code",
   "execution_count": 6,
   "metadata": {},
   "outputs": [],
   "source": [
    "def launched_welcome():\n",
    "    print(\"Hello\")\n",
    "    print(1+9)\n",
    "    print(10+10)"
   ]
  },
  {
   "cell_type": "code",
   "execution_count": 7,
   "metadata": {},
   "outputs": [
    {
     "name": "stdout",
     "output_type": "stream",
     "text": [
      "Hello\n",
      "10\n",
      "20\n"
     ]
    }
   ],
   "source": [
    "launched_welcome()"
   ]
  },
  {
   "cell_type": "code",
   "execution_count": 8,
   "metadata": {},
   "outputs": [
    {
     "name": "stdout",
     "output_type": "stream",
     "text": [
      "Hello\n",
      "10\n",
      "20\n",
      "Hello\n",
      "10\n",
      "20\n",
      "Hello\n",
      "10\n",
      "20\n"
     ]
    }
   ],
   "source": [
    "for idx in range(3):\n",
    "    launched_welcome()"
   ]
  },
  {
   "cell_type": "code",
   "execution_count": 11,
   "metadata": {},
   "outputs": [],
   "source": [
    "names = ['neil armstrong', 'buzz alrdin', 'sally ride', 'yuri gagrin', 'elon musk']\n",
    "\n",
    "def custom_wlcm(names):\n",
    "    print(f'Welcome {names}')"
   ]
  },
  {
   "cell_type": "code",
   "execution_count": 47,
   "metadata": {},
   "outputs": [
    {
     "name": "stdout",
     "output_type": "stream",
     "text": [
      "Welcome Anas Ahmed\n"
     ]
    }
   ],
   "source": [
    "custom_wlcm('Anas Ahmed')"
   ]
  },
  {
   "cell_type": "code",
   "execution_count": 48,
   "metadata": {},
   "outputs": [
    {
     "name": "stdout",
     "output_type": "stream",
     "text": [
      "Welcome neil armstrong\n",
      "Welcome buzz alrdin\n",
      "Welcome sally ride\n",
      "Welcome yuri gagrin\n",
      "Welcome elon musk\n"
     ]
    }
   ],
   "source": [
    "for name in names:\n",
    "    custom_wlcm(name)"
   ]
  },
  {
   "cell_type": "code",
   "execution_count": 15,
   "metadata": {},
   "outputs": [],
   "source": [
    "def custom_welcome(names, space_ship):\n",
    "    print(f'Welcome {names} to the {space_ship}')"
   ]
  },
  {
   "cell_type": "code",
   "execution_count": 16,
   "metadata": {},
   "outputs": [
    {
     "name": "stdout",
     "output_type": "stream",
     "text": [
      "Welcome buzz alrdin to the Galant-1\n"
     ]
    }
   ],
   "source": [
    "custom_welcome('buzz alrdin', 'Galant-1')"
   ]
  },
  {
   "cell_type": "code",
   "execution_count": 18,
   "metadata": {},
   "outputs": [
    {
     "name": "stdout",
     "output_type": "stream",
     "text": [
      "0 neil armstrong\n",
      "1 buzz alrdin\n",
      "2 sally ride\n",
      "3 yuri gagrin\n",
      "4 elon musk\n"
     ]
    }
   ],
   "source": [
    "for idx, name in enumerate(names):\n",
    "    print(idx, name)"
   ]
  },
  {
   "cell_type": "code",
   "execution_count": 50,
   "metadata": {},
   "outputs": [
    {
     "name": "stdout",
     "output_type": "stream",
     "text": [
      "Welcome neil armstrong to the Galactic-1\n",
      "Welcome buzz alrdin to the Galactic-2\n",
      "Welcome sally ride to the USS Viyeger\n",
      "Welcome yuri gagrin to the Galactic-3\n",
      "Welcome elon musk to the apple station\n"
     ]
    }
   ],
   "source": [
    "space_ship = ['Galactic-1', 'Galactic-2', 'USS Viyeger', 'Galactic-3', 'apple station']\n",
    "\n",
    "for idx, name in enumerate(names):\n",
    "    ship = space_ship[idx]\n",
    "    custom_welcome(name, ship)"
   ]
  },
  {
   "cell_type": "code",
   "execution_count": 25,
   "metadata": {},
   "outputs": [],
   "source": [
    "def space_suit(colour = \"Red\"):\n",
    "    print(f'your space suit is {colour}')"
   ]
  },
  {
   "cell_type": "code",
   "execution_count": 29,
   "metadata": {},
   "outputs": [
    {
     "name": "stdout",
     "output_type": "stream",
     "text": [
      "your space suit is Red\n",
      "None\n",
      "your space suit is Blue\n",
      "None\n"
     ]
    }
   ],
   "source": [
    "print(space_suit())\n",
    "print(space_suit('Blue'))"
   ]
  },
  {
   "cell_type": "code",
   "execution_count": 39,
   "metadata": {},
   "outputs": [],
   "source": [
    "def space_suit_welcome(name, space_ship, color = 'Red', allergies = None):\n",
    "    print(f'welcome {name} to the {space_ship}, your suit color is {color}, you have {allergies} allergies')"
   ]
  },
  {
   "cell_type": "code",
   "execution_count": 41,
   "metadata": {},
   "outputs": [
    {
     "name": "stdout",
     "output_type": "stream",
     "text": [
      "welcome Anas Ahmed to the Galactic-1, your suit color is Blue, you have peanut allergies\n"
     ]
    }
   ],
   "source": [
    "space_suit_welcome('Anas Ahmed', 'Galactic-1', color='Blue', allergies='peanut')"
   ]
  },
  {
   "cell_type": "code",
   "execution_count": 42,
   "metadata": {},
   "outputs": [],
   "source": [
    "def space_suit_welcome_return(name, space_ship, color = 'Red', allergies = None):\n",
    "    return f'welcome {name} to the {space_ship}, your suit color is {color}, you have {allergies} allergies'"
   ]
  },
  {
   "cell_type": "code",
   "execution_count": 43,
   "metadata": {},
   "outputs": [
    {
     "data": {
      "text/plain": [
       "'welcome Anas Ahmed to the Galactic-8, your suit color is Red, you have None allergies'"
      ]
     },
     "execution_count": 43,
     "metadata": {},
     "output_type": "execute_result"
    }
   ],
   "source": [
    "space_suit_welcome_return(\"Anas Ahmed\", 'Galactic-8')"
   ]
  },
  {
   "cell_type": "markdown",
   "metadata": {},
   "source": [
    "Lambda function"
   ]
  },
  {
   "cell_type": "code",
   "execution_count": 46,
   "metadata": {},
   "outputs": [
    {
     "name": "stdout",
     "output_type": "stream",
     "text": [
      "6.28\n"
     ]
    }
   ],
   "source": [
    "pi = lambda x: x*3.14\n",
    "print(pi(2))"
   ]
  },
  {
   "cell_type": "code",
   "execution_count": 54,
   "metadata": {},
   "outputs": [
    {
     "data": {
      "text/plain": [
       "100"
      ]
     },
     "execution_count": 54,
     "metadata": {},
     "output_type": "execute_result"
    }
   ],
   "source": [
    "addition = lambda x, y: x+y\n",
    "addition(50,50)"
   ]
  }
 ],
 "metadata": {
  "interpreter": {
   "hash": "39b61225ed6f3a9213a6382d61fac358e7eabeb5042cc74854e9ed04068e8625"
  },
  "kernelspec": {
   "display_name": "Python 3.9.7 64-bit ('base': conda)",
   "language": "python",
   "name": "python3"
  },
  "language_info": {
   "codemirror_mode": {
    "name": "ipython",
    "version": 3
   },
   "file_extension": ".py",
   "mimetype": "text/x-python",
   "name": "python",
   "nbconvert_exporter": "python",
   "pygments_lexer": "ipython3",
   "version": "3.9.7"
  },
  "orig_nbformat": 4
 },
 "nbformat": 4,
 "nbformat_minor": 2
}
